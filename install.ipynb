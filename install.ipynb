{
 "cells": [
  {
   "metadata": {},
   "cell_type": "code",
   "outputs": [],
   "execution_count": null,
   "source": "!pip install huggingface-hub[cli]",
   "id": "ed9874c3-17a2-4393-bf3c-57cdb00efa1c"
  },
  {
   "cell_type": "code",
   "id": "e47402c7-d9f0-4e51-b129-7953c7028c98",
   "metadata": {},
   "source": [
    "!huggingface-cli download microsoft/Phi-3-medium-128k-instruct-onnx-cpu --local-dir ."
   ],
   "outputs": [],
   "execution_count": null
  },
  {
   "cell_type": "code",
   "id": "ccf43865-6d0e-4a58-9158-8040bc746a1d",
   "metadata": {},
   "source": [
    "!pip install onnxruntime_genai"
   ],
   "outputs": [],
   "execution_count": null
  }
 ],
 "metadata": {
  "kernelspec": {
   "display_name": "Python 3 (ipykernel)",
   "language": "python",
   "name": "python3"
  },
  "language_info": {
   "codemirror_mode": {
    "name": "ipython",
    "version": 3
   },
   "file_extension": ".py",
   "mimetype": "text/x-python",
   "name": "python",
   "nbconvert_exporter": "python",
   "pygments_lexer": "ipython3",
   "version": "3.12.3"
  }
 },
 "nbformat": 4,
 "nbformat_minor": 5
}
